{
 "cells": [
  {
   "cell_type": "markdown",
   "id": "424206d2",
   "metadata": {},
   "source": [
    "Import Library"
   ]
  },
  {
   "cell_type": "code",
   "execution_count": 52,
   "id": "a0ab7dbe",
   "metadata": {},
   "outputs": [],
   "source": [
    "import numpy as np\n",
    "import pandas as pd\n",
    "import matplotlib.pyplot as plt\n",
    "%matplotlib inline\n",
    "import warnings"
   ]
  },
  {
   "cell_type": "code",
   "execution_count": 53,
   "id": "7148eafc",
   "metadata": {},
   "outputs": [],
   "source": [
    "warnings.simplefilter(action ='ignore', category=Warning)"
   ]
  },
  {
   "cell_type": "markdown",
   "id": "d9bdc491",
   "metadata": {},
   "source": [
    "Read Database"
   ]
  },
  {
   "cell_type": "code",
   "execution_count": 54,
   "id": "7c1ba2b2",
   "metadata": {},
   "outputs": [],
   "source": [
    "Dataset = pd.read_csv(\"Titanic.csv\")"
   ]
  },
  {
   "cell_type": "code",
   "execution_count": 55,
   "id": "b5815647",
   "metadata": {},
   "outputs": [
    {
     "data": {
      "text/html": [
       "<div>\n",
       "<style scoped>\n",
       "    .dataframe tbody tr th:only-of-type {\n",
       "        vertical-align: middle;\n",
       "    }\n",
       "\n",
       "    .dataframe tbody tr th {\n",
       "        vertical-align: top;\n",
       "    }\n",
       "\n",
       "    .dataframe thead th {\n",
       "        text-align: right;\n",
       "    }\n",
       "</style>\n",
       "<table border=\"1\" class=\"dataframe\">\n",
       "  <thead>\n",
       "    <tr style=\"text-align: right;\">\n",
       "      <th></th>\n",
       "      <th>Unnamed: 0</th>\n",
       "      <th>survived</th>\n",
       "      <th>sex</th>\n",
       "      <th>age</th>\n",
       "      <th>passengerClass</th>\n",
       "    </tr>\n",
       "  </thead>\n",
       "  <tbody>\n",
       "    <tr>\n",
       "      <th>0</th>\n",
       "      <td>Allen, Miss. Elisabeth Walton</td>\n",
       "      <td>yes</td>\n",
       "      <td>female</td>\n",
       "      <td>29.0000</td>\n",
       "      <td>1st</td>\n",
       "    </tr>\n",
       "    <tr>\n",
       "      <th>1</th>\n",
       "      <td>Allison, Master. Hudson Trevor</td>\n",
       "      <td>yes</td>\n",
       "      <td>male</td>\n",
       "      <td>0.9167</td>\n",
       "      <td>1st</td>\n",
       "    </tr>\n",
       "    <tr>\n",
       "      <th>2</th>\n",
       "      <td>Allison, Miss. Helen Loraine</td>\n",
       "      <td>no</td>\n",
       "      <td>female</td>\n",
       "      <td>2.0000</td>\n",
       "      <td>1st</td>\n",
       "    </tr>\n",
       "    <tr>\n",
       "      <th>3</th>\n",
       "      <td>Allison, Mr. Hudson Joshua Crei</td>\n",
       "      <td>no</td>\n",
       "      <td>male</td>\n",
       "      <td>30.0000</td>\n",
       "      <td>1st</td>\n",
       "    </tr>\n",
       "    <tr>\n",
       "      <th>4</th>\n",
       "      <td>Allison, Mrs. Hudson J C (Bessi</td>\n",
       "      <td>no</td>\n",
       "      <td>female</td>\n",
       "      <td>25.0000</td>\n",
       "      <td>1st</td>\n",
       "    </tr>\n",
       "    <tr>\n",
       "      <th>...</th>\n",
       "      <td>...</td>\n",
       "      <td>...</td>\n",
       "      <td>...</td>\n",
       "      <td>...</td>\n",
       "      <td>...</td>\n",
       "    </tr>\n",
       "    <tr>\n",
       "      <th>1304</th>\n",
       "      <td>Zabour, Miss. Hileni</td>\n",
       "      <td>no</td>\n",
       "      <td>female</td>\n",
       "      <td>14.5000</td>\n",
       "      <td>3rd</td>\n",
       "    </tr>\n",
       "    <tr>\n",
       "      <th>1305</th>\n",
       "      <td>Zabour, Miss. Thamine</td>\n",
       "      <td>no</td>\n",
       "      <td>female</td>\n",
       "      <td>NaN</td>\n",
       "      <td>3rd</td>\n",
       "    </tr>\n",
       "    <tr>\n",
       "      <th>1306</th>\n",
       "      <td>Zakarian, Mr. Mapriededer</td>\n",
       "      <td>no</td>\n",
       "      <td>male</td>\n",
       "      <td>26.5000</td>\n",
       "      <td>3rd</td>\n",
       "    </tr>\n",
       "    <tr>\n",
       "      <th>1307</th>\n",
       "      <td>Zakarian, Mr. Ortin</td>\n",
       "      <td>no</td>\n",
       "      <td>male</td>\n",
       "      <td>27.0000</td>\n",
       "      <td>3rd</td>\n",
       "    </tr>\n",
       "    <tr>\n",
       "      <th>1308</th>\n",
       "      <td>Zimmerman, Mr. Leo</td>\n",
       "      <td>no</td>\n",
       "      <td>male</td>\n",
       "      <td>29.0000</td>\n",
       "      <td>3rd</td>\n",
       "    </tr>\n",
       "  </tbody>\n",
       "</table>\n",
       "<p>1309 rows × 5 columns</p>\n",
       "</div>"
      ],
      "text/plain": [
       "                           Unnamed: 0 survived     sex      age passengerClass\n",
       "0       Allen, Miss. Elisabeth Walton      yes  female  29.0000            1st\n",
       "1      Allison, Master. Hudson Trevor      yes    male   0.9167            1st\n",
       "2        Allison, Miss. Helen Loraine       no  female   2.0000            1st\n",
       "3     Allison, Mr. Hudson Joshua Crei       no    male  30.0000            1st\n",
       "4     Allison, Mrs. Hudson J C (Bessi       no  female  25.0000            1st\n",
       "...                               ...      ...     ...      ...            ...\n",
       "1304             Zabour, Miss. Hileni       no  female  14.5000            3rd\n",
       "1305            Zabour, Miss. Thamine       no  female      NaN            3rd\n",
       "1306        Zakarian, Mr. Mapriededer       no    male  26.5000            3rd\n",
       "1307              Zakarian, Mr. Ortin       no    male  27.0000            3rd\n",
       "1308               Zimmerman, Mr. Leo       no    male  29.0000            3rd\n",
       "\n",
       "[1309 rows x 5 columns]"
      ]
     },
     "execution_count": 55,
     "metadata": {},
     "output_type": "execute_result"
    }
   ],
   "source": [
    "Dataset"
   ]
  },
  {
   "cell_type": "markdown",
   "id": "95635329",
   "metadata": {},
   "source": [
    "Change the columns's name"
   ]
  },
  {
   "cell_type": "code",
   "execution_count": 56,
   "id": "d4b25236",
   "metadata": {},
   "outputs": [],
   "source": [
    "Dataset.columns = [\"Name\",\"Survived\",\"Gender\",\"Age\",\"Class\"]"
   ]
  },
  {
   "cell_type": "code",
   "execution_count": 57,
   "id": "0d6f056e",
   "metadata": {},
   "outputs": [
    {
     "data": {
      "text/html": [
       "<div>\n",
       "<style scoped>\n",
       "    .dataframe tbody tr th:only-of-type {\n",
       "        vertical-align: middle;\n",
       "    }\n",
       "\n",
       "    .dataframe tbody tr th {\n",
       "        vertical-align: top;\n",
       "    }\n",
       "\n",
       "    .dataframe thead th {\n",
       "        text-align: right;\n",
       "    }\n",
       "</style>\n",
       "<table border=\"1\" class=\"dataframe\">\n",
       "  <thead>\n",
       "    <tr style=\"text-align: right;\">\n",
       "      <th></th>\n",
       "      <th>Name</th>\n",
       "      <th>Survived</th>\n",
       "      <th>Gender</th>\n",
       "      <th>Age</th>\n",
       "      <th>Class</th>\n",
       "    </tr>\n",
       "  </thead>\n",
       "  <tbody>\n",
       "    <tr>\n",
       "      <th>0</th>\n",
       "      <td>Allen, Miss. Elisabeth Walton</td>\n",
       "      <td>yes</td>\n",
       "      <td>female</td>\n",
       "      <td>29.0000</td>\n",
       "      <td>1st</td>\n",
       "    </tr>\n",
       "    <tr>\n",
       "      <th>1</th>\n",
       "      <td>Allison, Master. Hudson Trevor</td>\n",
       "      <td>yes</td>\n",
       "      <td>male</td>\n",
       "      <td>0.9167</td>\n",
       "      <td>1st</td>\n",
       "    </tr>\n",
       "    <tr>\n",
       "      <th>2</th>\n",
       "      <td>Allison, Miss. Helen Loraine</td>\n",
       "      <td>no</td>\n",
       "      <td>female</td>\n",
       "      <td>2.0000</td>\n",
       "      <td>1st</td>\n",
       "    </tr>\n",
       "    <tr>\n",
       "      <th>3</th>\n",
       "      <td>Allison, Mr. Hudson Joshua Crei</td>\n",
       "      <td>no</td>\n",
       "      <td>male</td>\n",
       "      <td>30.0000</td>\n",
       "      <td>1st</td>\n",
       "    </tr>\n",
       "    <tr>\n",
       "      <th>4</th>\n",
       "      <td>Allison, Mrs. Hudson J C (Bessi</td>\n",
       "      <td>no</td>\n",
       "      <td>female</td>\n",
       "      <td>25.0000</td>\n",
       "      <td>1st</td>\n",
       "    </tr>\n",
       "    <tr>\n",
       "      <th>...</th>\n",
       "      <td>...</td>\n",
       "      <td>...</td>\n",
       "      <td>...</td>\n",
       "      <td>...</td>\n",
       "      <td>...</td>\n",
       "    </tr>\n",
       "    <tr>\n",
       "      <th>1304</th>\n",
       "      <td>Zabour, Miss. Hileni</td>\n",
       "      <td>no</td>\n",
       "      <td>female</td>\n",
       "      <td>14.5000</td>\n",
       "      <td>3rd</td>\n",
       "    </tr>\n",
       "    <tr>\n",
       "      <th>1305</th>\n",
       "      <td>Zabour, Miss. Thamine</td>\n",
       "      <td>no</td>\n",
       "      <td>female</td>\n",
       "      <td>NaN</td>\n",
       "      <td>3rd</td>\n",
       "    </tr>\n",
       "    <tr>\n",
       "      <th>1306</th>\n",
       "      <td>Zakarian, Mr. Mapriededer</td>\n",
       "      <td>no</td>\n",
       "      <td>male</td>\n",
       "      <td>26.5000</td>\n",
       "      <td>3rd</td>\n",
       "    </tr>\n",
       "    <tr>\n",
       "      <th>1307</th>\n",
       "      <td>Zakarian, Mr. Ortin</td>\n",
       "      <td>no</td>\n",
       "      <td>male</td>\n",
       "      <td>27.0000</td>\n",
       "      <td>3rd</td>\n",
       "    </tr>\n",
       "    <tr>\n",
       "      <th>1308</th>\n",
       "      <td>Zimmerman, Mr. Leo</td>\n",
       "      <td>no</td>\n",
       "      <td>male</td>\n",
       "      <td>29.0000</td>\n",
       "      <td>3rd</td>\n",
       "    </tr>\n",
       "  </tbody>\n",
       "</table>\n",
       "<p>1309 rows × 5 columns</p>\n",
       "</div>"
      ],
      "text/plain": [
       "                                 Name Survived  Gender      Age Class\n",
       "0       Allen, Miss. Elisabeth Walton      yes  female  29.0000   1st\n",
       "1      Allison, Master. Hudson Trevor      yes    male   0.9167   1st\n",
       "2        Allison, Miss. Helen Loraine       no  female   2.0000   1st\n",
       "3     Allison, Mr. Hudson Joshua Crei       no    male  30.0000   1st\n",
       "4     Allison, Mrs. Hudson J C (Bessi       no  female  25.0000   1st\n",
       "...                               ...      ...     ...      ...   ...\n",
       "1304             Zabour, Miss. Hileni       no  female  14.5000   3rd\n",
       "1305            Zabour, Miss. Thamine       no  female      NaN   3rd\n",
       "1306        Zakarian, Mr. Mapriededer       no    male  26.5000   3rd\n",
       "1307              Zakarian, Mr. Ortin       no    male  27.0000   3rd\n",
       "1308               Zimmerman, Mr. Leo       no    male  29.0000   3rd\n",
       "\n",
       "[1309 rows x 5 columns]"
      ]
     },
     "execution_count": 57,
     "metadata": {},
     "output_type": "execute_result"
    }
   ],
   "source": [
    "Dataset"
   ]
  },
  {
   "cell_type": "markdown",
   "id": "d5848788",
   "metadata": {},
   "source": [
    "Find the rows count"
   ]
  },
  {
   "cell_type": "code",
   "execution_count": 58,
   "id": "7e5db0c4",
   "metadata": {},
   "outputs": [
    {
     "data": {
      "text/plain": [
       "1309"
      ]
     },
     "execution_count": 58,
     "metadata": {},
     "output_type": "execute_result"
    }
   ],
   "source": [
    "len(Dataset)"
   ]
  },
  {
   "cell_type": "code",
   "execution_count": 59,
   "id": "6da00c41",
   "metadata": {},
   "outputs": [
    {
     "data": {
      "text/plain": [
       "Name        1309\n",
       "Survived    1309\n",
       "Gender      1309\n",
       "Age         1046\n",
       "Class       1309\n",
       "dtype: int64"
      ]
     },
     "execution_count": 59,
     "metadata": {},
     "output_type": "execute_result"
    }
   ],
   "source": [
    "Dataset.count()"
   ]
  },
  {
   "cell_type": "markdown",
   "id": "55b40a98",
   "metadata": {},
   "source": [
    "First 15 rows "
   ]
  },
  {
   "cell_type": "code",
   "execution_count": 60,
   "id": "c534b89f",
   "metadata": {},
   "outputs": [
    {
     "data": {
      "text/html": [
       "<div>\n",
       "<style scoped>\n",
       "    .dataframe tbody tr th:only-of-type {\n",
       "        vertical-align: middle;\n",
       "    }\n",
       "\n",
       "    .dataframe tbody tr th {\n",
       "        vertical-align: top;\n",
       "    }\n",
       "\n",
       "    .dataframe thead th {\n",
       "        text-align: right;\n",
       "    }\n",
       "</style>\n",
       "<table border=\"1\" class=\"dataframe\">\n",
       "  <thead>\n",
       "    <tr style=\"text-align: right;\">\n",
       "      <th></th>\n",
       "      <th>Name</th>\n",
       "      <th>Survived</th>\n",
       "      <th>Gender</th>\n",
       "      <th>Age</th>\n",
       "      <th>Class</th>\n",
       "    </tr>\n",
       "  </thead>\n",
       "  <tbody>\n",
       "    <tr>\n",
       "      <th>0</th>\n",
       "      <td>Allen, Miss. Elisabeth Walton</td>\n",
       "      <td>yes</td>\n",
       "      <td>female</td>\n",
       "      <td>29.0000</td>\n",
       "      <td>1st</td>\n",
       "    </tr>\n",
       "    <tr>\n",
       "      <th>1</th>\n",
       "      <td>Allison, Master. Hudson Trevor</td>\n",
       "      <td>yes</td>\n",
       "      <td>male</td>\n",
       "      <td>0.9167</td>\n",
       "      <td>1st</td>\n",
       "    </tr>\n",
       "    <tr>\n",
       "      <th>2</th>\n",
       "      <td>Allison, Miss. Helen Loraine</td>\n",
       "      <td>no</td>\n",
       "      <td>female</td>\n",
       "      <td>2.0000</td>\n",
       "      <td>1st</td>\n",
       "    </tr>\n",
       "    <tr>\n",
       "      <th>3</th>\n",
       "      <td>Allison, Mr. Hudson Joshua Crei</td>\n",
       "      <td>no</td>\n",
       "      <td>male</td>\n",
       "      <td>30.0000</td>\n",
       "      <td>1st</td>\n",
       "    </tr>\n",
       "    <tr>\n",
       "      <th>4</th>\n",
       "      <td>Allison, Mrs. Hudson J C (Bessi</td>\n",
       "      <td>no</td>\n",
       "      <td>female</td>\n",
       "      <td>25.0000</td>\n",
       "      <td>1st</td>\n",
       "    </tr>\n",
       "    <tr>\n",
       "      <th>5</th>\n",
       "      <td>Anderson, Mr. Harry</td>\n",
       "      <td>yes</td>\n",
       "      <td>male</td>\n",
       "      <td>48.0000</td>\n",
       "      <td>1st</td>\n",
       "    </tr>\n",
       "    <tr>\n",
       "      <th>6</th>\n",
       "      <td>Andrews, Miss. Kornelia Theodos</td>\n",
       "      <td>yes</td>\n",
       "      <td>female</td>\n",
       "      <td>63.0000</td>\n",
       "      <td>1st</td>\n",
       "    </tr>\n",
       "    <tr>\n",
       "      <th>7</th>\n",
       "      <td>Andrews, Mr. Thomas Jr</td>\n",
       "      <td>no</td>\n",
       "      <td>male</td>\n",
       "      <td>39.0000</td>\n",
       "      <td>1st</td>\n",
       "    </tr>\n",
       "    <tr>\n",
       "      <th>8</th>\n",
       "      <td>Appleton, Mrs. Edward Dale (Cha</td>\n",
       "      <td>yes</td>\n",
       "      <td>female</td>\n",
       "      <td>53.0000</td>\n",
       "      <td>1st</td>\n",
       "    </tr>\n",
       "    <tr>\n",
       "      <th>9</th>\n",
       "      <td>Artagaveytia, Mr. Ramon</td>\n",
       "      <td>no</td>\n",
       "      <td>male</td>\n",
       "      <td>71.0000</td>\n",
       "      <td>1st</td>\n",
       "    </tr>\n",
       "    <tr>\n",
       "      <th>10</th>\n",
       "      <td>Astor, Col. John Jacob</td>\n",
       "      <td>no</td>\n",
       "      <td>male</td>\n",
       "      <td>47.0000</td>\n",
       "      <td>1st</td>\n",
       "    </tr>\n",
       "    <tr>\n",
       "      <th>11</th>\n",
       "      <td>Astor, Mrs. John Jacob (Madelei</td>\n",
       "      <td>yes</td>\n",
       "      <td>female</td>\n",
       "      <td>18.0000</td>\n",
       "      <td>1st</td>\n",
       "    </tr>\n",
       "    <tr>\n",
       "      <th>12</th>\n",
       "      <td>Aubart, Mme. Leontine Pauline</td>\n",
       "      <td>yes</td>\n",
       "      <td>female</td>\n",
       "      <td>24.0000</td>\n",
       "      <td>1st</td>\n",
       "    </tr>\n",
       "    <tr>\n",
       "      <th>13</th>\n",
       "      <td>Barber, Miss. Ellen Nellie</td>\n",
       "      <td>yes</td>\n",
       "      <td>female</td>\n",
       "      <td>26.0000</td>\n",
       "      <td>1st</td>\n",
       "    </tr>\n",
       "    <tr>\n",
       "      <th>14</th>\n",
       "      <td>Barkworth, Mr. Algernon Henry W</td>\n",
       "      <td>yes</td>\n",
       "      <td>male</td>\n",
       "      <td>80.0000</td>\n",
       "      <td>1st</td>\n",
       "    </tr>\n",
       "  </tbody>\n",
       "</table>\n",
       "</div>"
      ],
      "text/plain": [
       "                               Name Survived  Gender      Age Class\n",
       "0     Allen, Miss. Elisabeth Walton      yes  female  29.0000   1st\n",
       "1    Allison, Master. Hudson Trevor      yes    male   0.9167   1st\n",
       "2      Allison, Miss. Helen Loraine       no  female   2.0000   1st\n",
       "3   Allison, Mr. Hudson Joshua Crei       no    male  30.0000   1st\n",
       "4   Allison, Mrs. Hudson J C (Bessi       no  female  25.0000   1st\n",
       "5               Anderson, Mr. Harry      yes    male  48.0000   1st\n",
       "6   Andrews, Miss. Kornelia Theodos      yes  female  63.0000   1st\n",
       "7            Andrews, Mr. Thomas Jr       no    male  39.0000   1st\n",
       "8   Appleton, Mrs. Edward Dale (Cha      yes  female  53.0000   1st\n",
       "9           Artagaveytia, Mr. Ramon       no    male  71.0000   1st\n",
       "10           Astor, Col. John Jacob       no    male  47.0000   1st\n",
       "11  Astor, Mrs. John Jacob (Madelei      yes  female  18.0000   1st\n",
       "12    Aubart, Mme. Leontine Pauline      yes  female  24.0000   1st\n",
       "13       Barber, Miss. Ellen Nellie      yes  female  26.0000   1st\n",
       "14  Barkworth, Mr. Algernon Henry W      yes    male  80.0000   1st"
      ]
     },
     "execution_count": 60,
     "metadata": {},
     "output_type": "execute_result"
    }
   ],
   "source": [
    "Dataset.head(15)"
   ]
  },
  {
   "cell_type": "markdown",
   "id": "d72efecc",
   "metadata": {},
   "source": [
    "Last 20 rows"
   ]
  },
  {
   "cell_type": "code",
   "execution_count": 61,
   "id": "f1d88756",
   "metadata": {},
   "outputs": [
    {
     "data": {
      "text/html": [
       "<div>\n",
       "<style scoped>\n",
       "    .dataframe tbody tr th:only-of-type {\n",
       "        vertical-align: middle;\n",
       "    }\n",
       "\n",
       "    .dataframe tbody tr th {\n",
       "        vertical-align: top;\n",
       "    }\n",
       "\n",
       "    .dataframe thead th {\n",
       "        text-align: right;\n",
       "    }\n",
       "</style>\n",
       "<table border=\"1\" class=\"dataframe\">\n",
       "  <thead>\n",
       "    <tr style=\"text-align: right;\">\n",
       "      <th></th>\n",
       "      <th>Name</th>\n",
       "      <th>Survived</th>\n",
       "      <th>Gender</th>\n",
       "      <th>Age</th>\n",
       "      <th>Class</th>\n",
       "    </tr>\n",
       "  </thead>\n",
       "  <tbody>\n",
       "    <tr>\n",
       "      <th>1289</th>\n",
       "      <td>Wiklund, Mr. Karl Johan</td>\n",
       "      <td>no</td>\n",
       "      <td>male</td>\n",
       "      <td>21.0</td>\n",
       "      <td>3rd</td>\n",
       "    </tr>\n",
       "    <tr>\n",
       "      <th>1290</th>\n",
       "      <td>Wilkes, Mrs. James (Ellen Needs</td>\n",
       "      <td>yes</td>\n",
       "      <td>female</td>\n",
       "      <td>47.0</td>\n",
       "      <td>3rd</td>\n",
       "    </tr>\n",
       "    <tr>\n",
       "      <th>1291</th>\n",
       "      <td>Willer, Mr. Aaron (Abi Weller</td>\n",
       "      <td>no</td>\n",
       "      <td>male</td>\n",
       "      <td>NaN</td>\n",
       "      <td>3rd</td>\n",
       "    </tr>\n",
       "    <tr>\n",
       "      <th>1292</th>\n",
       "      <td>Willey, Mr. Edward</td>\n",
       "      <td>no</td>\n",
       "      <td>male</td>\n",
       "      <td>NaN</td>\n",
       "      <td>3rd</td>\n",
       "    </tr>\n",
       "    <tr>\n",
       "      <th>1293</th>\n",
       "      <td>Williams, Mr. Howard Hugh Harr</td>\n",
       "      <td>no</td>\n",
       "      <td>male</td>\n",
       "      <td>NaN</td>\n",
       "      <td>3rd</td>\n",
       "    </tr>\n",
       "    <tr>\n",
       "      <th>1294</th>\n",
       "      <td>Williams, Mr. Leslie</td>\n",
       "      <td>no</td>\n",
       "      <td>male</td>\n",
       "      <td>28.5</td>\n",
       "      <td>3rd</td>\n",
       "    </tr>\n",
       "    <tr>\n",
       "      <th>1295</th>\n",
       "      <td>Windelov, Mr. Einar</td>\n",
       "      <td>no</td>\n",
       "      <td>male</td>\n",
       "      <td>21.0</td>\n",
       "      <td>3rd</td>\n",
       "    </tr>\n",
       "    <tr>\n",
       "      <th>1296</th>\n",
       "      <td>Wirz, Mr. Albert</td>\n",
       "      <td>no</td>\n",
       "      <td>male</td>\n",
       "      <td>27.0</td>\n",
       "      <td>3rd</td>\n",
       "    </tr>\n",
       "    <tr>\n",
       "      <th>1297</th>\n",
       "      <td>Wiseman, Mr. Phillippe</td>\n",
       "      <td>no</td>\n",
       "      <td>male</td>\n",
       "      <td>NaN</td>\n",
       "      <td>3rd</td>\n",
       "    </tr>\n",
       "    <tr>\n",
       "      <th>1298</th>\n",
       "      <td>Wittevrongel, Mr. Camille</td>\n",
       "      <td>no</td>\n",
       "      <td>male</td>\n",
       "      <td>36.0</td>\n",
       "      <td>3rd</td>\n",
       "    </tr>\n",
       "    <tr>\n",
       "      <th>1299</th>\n",
       "      <td>Yasbeck, Mr. Antoni</td>\n",
       "      <td>no</td>\n",
       "      <td>male</td>\n",
       "      <td>27.0</td>\n",
       "      <td>3rd</td>\n",
       "    </tr>\n",
       "    <tr>\n",
       "      <th>1300</th>\n",
       "      <td>Yasbeck, Mrs. Antoni (Selini Al</td>\n",
       "      <td>yes</td>\n",
       "      <td>female</td>\n",
       "      <td>15.0</td>\n",
       "      <td>3rd</td>\n",
       "    </tr>\n",
       "    <tr>\n",
       "      <th>1301</th>\n",
       "      <td>Youseff, Mr. Gerious</td>\n",
       "      <td>no</td>\n",
       "      <td>male</td>\n",
       "      <td>45.5</td>\n",
       "      <td>3rd</td>\n",
       "    </tr>\n",
       "    <tr>\n",
       "      <th>1302</th>\n",
       "      <td>Yousif, Mr. Wazli</td>\n",
       "      <td>no</td>\n",
       "      <td>male</td>\n",
       "      <td>NaN</td>\n",
       "      <td>3rd</td>\n",
       "    </tr>\n",
       "    <tr>\n",
       "      <th>1303</th>\n",
       "      <td>Yousseff, Mr. Gerious</td>\n",
       "      <td>no</td>\n",
       "      <td>male</td>\n",
       "      <td>NaN</td>\n",
       "      <td>3rd</td>\n",
       "    </tr>\n",
       "    <tr>\n",
       "      <th>1304</th>\n",
       "      <td>Zabour, Miss. Hileni</td>\n",
       "      <td>no</td>\n",
       "      <td>female</td>\n",
       "      <td>14.5</td>\n",
       "      <td>3rd</td>\n",
       "    </tr>\n",
       "    <tr>\n",
       "      <th>1305</th>\n",
       "      <td>Zabour, Miss. Thamine</td>\n",
       "      <td>no</td>\n",
       "      <td>female</td>\n",
       "      <td>NaN</td>\n",
       "      <td>3rd</td>\n",
       "    </tr>\n",
       "    <tr>\n",
       "      <th>1306</th>\n",
       "      <td>Zakarian, Mr. Mapriededer</td>\n",
       "      <td>no</td>\n",
       "      <td>male</td>\n",
       "      <td>26.5</td>\n",
       "      <td>3rd</td>\n",
       "    </tr>\n",
       "    <tr>\n",
       "      <th>1307</th>\n",
       "      <td>Zakarian, Mr. Ortin</td>\n",
       "      <td>no</td>\n",
       "      <td>male</td>\n",
       "      <td>27.0</td>\n",
       "      <td>3rd</td>\n",
       "    </tr>\n",
       "    <tr>\n",
       "      <th>1308</th>\n",
       "      <td>Zimmerman, Mr. Leo</td>\n",
       "      <td>no</td>\n",
       "      <td>male</td>\n",
       "      <td>29.0</td>\n",
       "      <td>3rd</td>\n",
       "    </tr>\n",
       "  </tbody>\n",
       "</table>\n",
       "</div>"
      ],
      "text/plain": [
       "                                 Name Survived  Gender   Age Class\n",
       "1289          Wiklund, Mr. Karl Johan       no    male  21.0   3rd\n",
       "1290  Wilkes, Mrs. James (Ellen Needs      yes  female  47.0   3rd\n",
       "1291    Willer, Mr. Aaron (Abi Weller       no    male   NaN   3rd\n",
       "1292               Willey, Mr. Edward       no    male   NaN   3rd\n",
       "1293   Williams, Mr. Howard Hugh Harr       no    male   NaN   3rd\n",
       "1294             Williams, Mr. Leslie       no    male  28.5   3rd\n",
       "1295              Windelov, Mr. Einar       no    male  21.0   3rd\n",
       "1296                 Wirz, Mr. Albert       no    male  27.0   3rd\n",
       "1297           Wiseman, Mr. Phillippe       no    male   NaN   3rd\n",
       "1298        Wittevrongel, Mr. Camille       no    male  36.0   3rd\n",
       "1299              Yasbeck, Mr. Antoni       no    male  27.0   3rd\n",
       "1300  Yasbeck, Mrs. Antoni (Selini Al      yes  female  15.0   3rd\n",
       "1301             Youseff, Mr. Gerious       no    male  45.5   3rd\n",
       "1302                Yousif, Mr. Wazli       no    male   NaN   3rd\n",
       "1303            Yousseff, Mr. Gerious       no    male   NaN   3rd\n",
       "1304             Zabour, Miss. Hileni       no  female  14.5   3rd\n",
       "1305            Zabour, Miss. Thamine       no  female   NaN   3rd\n",
       "1306        Zakarian, Mr. Mapriededer       no    male  26.5   3rd\n",
       "1307              Zakarian, Mr. Ortin       no    male  27.0   3rd\n",
       "1308               Zimmerman, Mr. Leo       no    male  29.0   3rd"
      ]
     },
     "execution_count": 61,
     "metadata": {},
     "output_type": "execute_result"
    }
   ],
   "source": [
    "Dataset.tail(20)"
   ]
  },
  {
   "cell_type": "markdown",
   "id": "b702e0c0",
   "metadata": {},
   "source": [
    "Calculate average age of the passengers"
   ]
  },
  {
   "cell_type": "code",
   "execution_count": 62,
   "id": "94acddf5",
   "metadata": {},
   "outputs": [
    {
     "data": {
      "text/plain": [
       "Age    29.881135\n",
       "dtype: float64"
      ]
     },
     "execution_count": 62,
     "metadata": {},
     "output_type": "execute_result"
    }
   ],
   "source": [
    "Dataset.mean()"
   ]
  },
  {
   "cell_type": "code",
   "execution_count": 63,
   "id": "51b4622b",
   "metadata": {},
   "outputs": [
    {
     "data": {
      "text/plain": [
       "Name        van Melkebeke, Mr. Philemon\n",
       "Survived                            yes\n",
       "Gender                             male\n",
       "Age                                80.0\n",
       "Class                               3rd\n",
       "dtype: object"
      ]
     },
     "execution_count": 63,
     "metadata": {},
     "output_type": "execute_result"
    }
   ],
   "source": [
    "Dataset.max()"
   ]
  },
  {
   "cell_type": "markdown",
   "id": "b4d03a6f",
   "metadata": {},
   "source": [
    "FInd old passengers age and name"
   ]
  },
  {
   "cell_type": "code",
   "execution_count": 64,
   "id": "ebf176b9",
   "metadata": {},
   "outputs": [
    {
     "data": {
      "text/html": [
       "<div>\n",
       "<style scoped>\n",
       "    .dataframe tbody tr th:only-of-type {\n",
       "        vertical-align: middle;\n",
       "    }\n",
       "\n",
       "    .dataframe tbody tr th {\n",
       "        vertical-align: top;\n",
       "    }\n",
       "\n",
       "    .dataframe thead th {\n",
       "        text-align: right;\n",
       "    }\n",
       "</style>\n",
       "<table border=\"1\" class=\"dataframe\">\n",
       "  <thead>\n",
       "    <tr style=\"text-align: right;\">\n",
       "      <th></th>\n",
       "      <th>Name</th>\n",
       "      <th>Survived</th>\n",
       "      <th>Gender</th>\n",
       "      <th>Age</th>\n",
       "      <th>Class</th>\n",
       "    </tr>\n",
       "  </thead>\n",
       "  <tbody>\n",
       "    <tr>\n",
       "      <th>14</th>\n",
       "      <td>Barkworth, Mr. Algernon Henry W</td>\n",
       "      <td>yes</td>\n",
       "      <td>male</td>\n",
       "      <td>80.0</td>\n",
       "      <td>1st</td>\n",
       "    </tr>\n",
       "  </tbody>\n",
       "</table>\n",
       "</div>"
      ],
      "text/plain": [
       "                               Name Survived Gender   Age Class\n",
       "14  Barkworth, Mr. Algernon Henry W      yes   male  80.0   1st"
      ]
     },
     "execution_count": 64,
     "metadata": {},
     "output_type": "execute_result"
    }
   ],
   "source": [
    "Dataset[Dataset[\"Age\"].max() == Dataset[\"Age\"]]"
   ]
  },
  {
   "cell_type": "markdown",
   "id": "b45785ae",
   "metadata": {},
   "source": [
    "Group the dataset by passengers class"
   ]
  },
  {
   "cell_type": "code",
   "execution_count": 65,
   "id": "b7f3d9ff",
   "metadata": {},
   "outputs": [],
   "source": [
    "Dataset_class = Dataset.groupby(\"Class\")"
   ]
  },
  {
   "cell_type": "code",
   "execution_count": 66,
   "id": "7b309fca",
   "metadata": {},
   "outputs": [
    {
     "data": {
      "text/plain": [
       "<pandas.core.groupby.generic.DataFrameGroupBy object at 0x0000026A63CCFE50>"
      ]
     },
     "execution_count": 66,
     "metadata": {},
     "output_type": "execute_result"
    }
   ],
   "source": [
    "Dataset_class"
   ]
  },
  {
   "cell_type": "code",
   "execution_count": 67,
   "id": "624090d2",
   "metadata": {},
   "outputs": [
    {
     "data": {
      "text/plain": [
       "{'1st': [0, 1, 2, 3, 4, 5, 6, 7, 8, 9, 10, 11, 12, 13, 14, 15, 16, 17, 18, 19, 20, 21, 22, 23, 24, 25, 26, 27, 28, 29, 30, 31, 32, 33, 34, 35, 36, 37, 38, 39, 40, 41, 42, 43, 44, 45, 46, 47, 48, 49, 50, 51, 52, 53, 54, 55, 56, 57, 58, 59, 60, 61, 62, 63, 64, 65, 66, 67, 68, 69, 70, 71, 72, 73, 74, 75, 76, 77, 78, 79, 80, 81, 82, 83, 84, 85, 86, 87, 88, 89, 90, 91, 92, 93, 94, 95, 96, 97, 98, 99, ...], '2nd': [323, 324, 325, 326, 327, 328, 329, 330, 331, 332, 333, 334, 335, 336, 337, 338, 339, 340, 341, 342, 343, 344, 345, 346, 347, 348, 349, 350, 351, 352, 353, 354, 355, 356, 357, 358, 359, 360, 361, 362, 363, 364, 365, 366, 367, 368, 369, 370, 371, 372, 373, 374, 375, 376, 377, 378, 379, 380, 381, 382, 383, 384, 385, 386, 387, 388, 389, 390, 391, 392, 393, 394, 395, 396, 397, 398, 399, 400, 401, 402, 403, 404, 405, 406, 407, 408, 409, 410, 411, 412, 413, 414, 415, 416, 417, 418, 419, 420, 421, 422, ...], '3rd': [600, 601, 602, 603, 604, 605, 606, 607, 608, 609, 610, 611, 612, 613, 614, 615, 616, 617, 618, 619, 620, 621, 622, 623, 624, 625, 626, 627, 628, 629, 630, 631, 632, 633, 634, 635, 636, 637, 638, 639, 640, 641, 642, 643, 644, 645, 646, 647, 648, 649, 650, 651, 652, 653, 654, 655, 656, 657, 658, 659, 660, 661, 662, 663, 664, 665, 666, 667, 668, 669, 670, 671, 672, 673, 674, 675, 676, 677, 678, 679, 680, 681, 682, 683, 684, 685, 686, 687, 688, 689, 690, 691, 692, 693, 694, 695, 696, 697, 698, 699, ...]}"
      ]
     },
     "execution_count": 67,
     "metadata": {},
     "output_type": "execute_result"
    }
   ],
   "source": [
    "Dataset_class.groups"
   ]
  },
  {
   "cell_type": "markdown",
   "id": "9945508d",
   "metadata": {},
   "source": [
    "Group the dataset by passengers survived situation"
   ]
  },
  {
   "cell_type": "code",
   "execution_count": 68,
   "id": "6783172c",
   "metadata": {},
   "outputs": [],
   "source": [
    "Dataset_Survived = Dataset.groupby(\"Survived\")"
   ]
  },
  {
   "cell_type": "code",
   "execution_count": 69,
   "id": "19f5e4d1",
   "metadata": {},
   "outputs": [
    {
     "data": {
      "text/plain": [
       "<pandas.core.groupby.generic.DataFrameGroupBy object at 0x0000026A63BBCBD0>"
      ]
     },
     "execution_count": 69,
     "metadata": {},
     "output_type": "execute_result"
    }
   ],
   "source": [
    "Dataset_Survived"
   ]
  },
  {
   "cell_type": "code",
   "execution_count": 70,
   "id": "f8464db8",
   "metadata": {},
   "outputs": [
    {
     "data": {
      "text/plain": [
       "{'no': [2, 3, 4, 7, 9, 10, 15, 16, 19, 25, 30, 34, 38, 39, 40, 45, 46, 51, 52, 53, 58, 60, 62, 70, 71, 74, 75, 77, 80, 81, 84, 89, 96, 101, 105, 106, 110, 114, 115, 118, 125, 126, 128, 132, 135, 138, 142, 147, 148, 150, 154, 156, 157, 158, 162, 166, 169, 171, 172, 173, 174, 175, 179, 184, 185, 189, 191, 194, 197, 200, 201, 203, 205, 206, 210, 211, 212, 215, 217, 221, 222, 223, 224, 225, 226, 228, 232, 234, 236, 237, 239, 241, 243, 244, 246, 248, 252, 262, 266, 267, ...], 'yes': [0, 1, 5, 6, 8, 11, 12, 13, 14, 17, 18, 20, 21, 22, 23, 24, 26, 27, 28, 29, 31, 32, 33, 35, 36, 37, 41, 42, 43, 44, 47, 48, 49, 50, 54, 55, 56, 57, 59, 61, 63, 64, 65, 66, 67, 68, 69, 72, 73, 76, 78, 79, 82, 83, 85, 86, 87, 88, 90, 91, 92, 93, 94, 95, 97, 98, 99, 100, 102, 103, 104, 107, 108, 109, 111, 112, 113, 116, 117, 119, 120, 121, 122, 123, 124, 127, 129, 130, 131, 133, 134, 136, 137, 139, 140, 141, 143, 144, 145, 146, ...]}"
      ]
     },
     "execution_count": 70,
     "metadata": {},
     "output_type": "execute_result"
    }
   ],
   "source": [
    "Dataset_Survived.groups"
   ]
  },
  {
   "cell_type": "markdown",
   "id": "ca1f028f",
   "metadata": {},
   "source": [
    "Total Survivors"
   ]
  },
  {
   "cell_type": "code",
   "execution_count": 71,
   "id": "a5ec1dd3",
   "metadata": {},
   "outputs": [
    {
     "data": {
      "text/plain": [
       "500"
      ]
     },
     "execution_count": 71,
     "metadata": {},
     "output_type": "execute_result"
    }
   ],
   "source": [
    "len(Dataset_Survived.get_group(\"yes\"))"
   ]
  },
  {
   "cell_type": "markdown",
   "id": "29052dab",
   "metadata": {},
   "source": [
    "Find Youngest survivor with all details"
   ]
  },
  {
   "cell_type": "code",
   "execution_count": 72,
   "id": "d330df27",
   "metadata": {},
   "outputs": [],
   "source": [
    "Survivor = Dataset_Survived.get_group(\"yes\")"
   ]
  },
  {
   "cell_type": "code",
   "execution_count": 73,
   "id": "748d743f",
   "metadata": {},
   "outputs": [
    {
     "data": {
      "text/html": [
       "<div>\n",
       "<style scoped>\n",
       "    .dataframe tbody tr th:only-of-type {\n",
       "        vertical-align: middle;\n",
       "    }\n",
       "\n",
       "    .dataframe tbody tr th {\n",
       "        vertical-align: top;\n",
       "    }\n",
       "\n",
       "    .dataframe thead th {\n",
       "        text-align: right;\n",
       "    }\n",
       "</style>\n",
       "<table border=\"1\" class=\"dataframe\">\n",
       "  <thead>\n",
       "    <tr style=\"text-align: right;\">\n",
       "      <th></th>\n",
       "      <th>Name</th>\n",
       "      <th>Survived</th>\n",
       "      <th>Gender</th>\n",
       "      <th>Age</th>\n",
       "      <th>Class</th>\n",
       "    </tr>\n",
       "  </thead>\n",
       "  <tbody>\n",
       "    <tr>\n",
       "      <th>763</th>\n",
       "      <td>Dean, Miss. Elizabeth Gladys M</td>\n",
       "      <td>yes</td>\n",
       "      <td>female</td>\n",
       "      <td>0.1667</td>\n",
       "      <td>3rd</td>\n",
       "    </tr>\n",
       "  </tbody>\n",
       "</table>\n",
       "</div>"
      ],
      "text/plain": [
       "                               Name Survived  Gender     Age Class\n",
       "763  Dean, Miss. Elizabeth Gladys M      yes  female  0.1667   3rd"
      ]
     },
     "execution_count": 73,
     "metadata": {},
     "output_type": "execute_result"
    }
   ],
   "source": [
    "Survivor[Survivor[\"Age\"].min() == Survivor[\"Age\"]]"
   ]
  },
  {
   "cell_type": "markdown",
   "id": "eb1f1201",
   "metadata": {},
   "source": [
    "2nd Class pessangers average age"
   ]
  },
  {
   "cell_type": "code",
   "execution_count": 74,
   "id": "a0852b90",
   "metadata": {},
   "outputs": [
    {
     "data": {
      "text/plain": [
       "Age    29.506705\n",
       "dtype: float64"
      ]
     },
     "execution_count": 74,
     "metadata": {},
     "output_type": "execute_result"
    }
   ],
   "source": [
    "Dataset_class.get_group(\"2nd\").mean()"
   ]
  },
  {
   "cell_type": "markdown",
   "id": "0830eaf6",
   "metadata": {},
   "source": [
    "Survivors in 3rd class"
   ]
  },
  {
   "cell_type": "code",
   "execution_count": 75,
   "id": "34edeb7e",
   "metadata": {},
   "outputs": [],
   "source": [
    "Survivor_class= Survivor.groupby(\"Class\")"
   ]
  },
  {
   "cell_type": "code",
   "execution_count": 76,
   "id": "4eb7dd72",
   "metadata": {},
   "outputs": [
    {
     "data": {
      "text/plain": [
       "181"
      ]
     },
     "execution_count": 76,
     "metadata": {},
     "output_type": "execute_result"
    }
   ],
   "source": [
    "len(Survivor_class.get_group(\"3rd\"))"
   ]
  },
  {
   "cell_type": "markdown",
   "id": "516f5fc4",
   "metadata": {},
   "source": [
    "1st class average age who were not survived"
   ]
  },
  {
   "cell_type": "code",
   "execution_count": 77,
   "id": "c7f638e0",
   "metadata": {},
   "outputs": [],
   "source": [
    "Death = Dataset_Survived.get_group(\"no\")"
   ]
  },
  {
   "cell_type": "code",
   "execution_count": 78,
   "id": "683b14af",
   "metadata": {},
   "outputs": [],
   "source": [
    "Death_class = Death.groupby(\"Class\")"
   ]
  },
  {
   "cell_type": "code",
   "execution_count": 79,
   "id": "30cea782",
   "metadata": {},
   "outputs": [
    {
     "data": {
      "text/plain": [
       "Age    25.974549\n",
       "dtype: float64"
      ]
     },
     "execution_count": 79,
     "metadata": {},
     "output_type": "execute_result"
    }
   ],
   "source": [
    "Death_class.get_group(\"3rd\").mean()"
   ]
  },
  {
   "cell_type": "markdown",
   "id": "ab1f93f1",
   "metadata": {},
   "source": [
    "pie Chart :Distribution of passengers by class"
   ]
  },
  {
   "cell_type": "code",
   "execution_count": 80,
   "id": "f7a9fca2",
   "metadata": {},
   "outputs": [],
   "source": [
    "Labels =[\"First class\", \"Second class\",\"Third class\"]"
   ]
  },
  {
   "cell_type": "code",
   "execution_count": 81,
   "id": "fde74164",
   "metadata": {},
   "outputs": [],
   "source": [
    "Sizes = len(Dataset_class.get_group(\"1st\")),len(Dataset_class.get_group(\"2nd\")),len(Dataset_class.get_group(\"3rd\"))"
   ]
  },
  {
   "cell_type": "code",
   "execution_count": 82,
   "id": "1ef54f09",
   "metadata": {},
   "outputs": [
    {
     "data": {
      "image/png": "[encoded data removed]",
      "text/plain": [
       "<Figure size 640x480 with 1 Axes>"
      ]
     },
     "metadata": {},
     "output_type": "display_data"
    }
   ],
   "source": [
    "Figure,Axes = plt.subplots()\n",
    "\n",
    "Axes.pie(Sizes, labels =Labels, autopct = \"%1.1f%%\")\n",
    "\n",
    "plt.show()"
   ]
  },
  {
   "cell_type": "markdown",
   "id": "c46f2ff8",
   "metadata": {},
   "source": [
    "Histogram: Distribution by age"
   ]
  },
  {
   "cell_type": "code",
   "execution_count": 83,
   "id": "525ae2a2",
   "metadata": {},
   "outputs": [
    {
     "data": {
      "image/png": "[encoded data removed]",
      "text/plain": [
       "<Figure size 640x480 with 1 Axes>"
      ]
     },
     "metadata": {},
     "output_type": "display_data"
    }
   ],
   "source": [
    "Histogram = Dataset.hist()"
   ]
  },
  {
   "cell_type": "code",
   "execution_count": null,
   "id": "bd150a48",
   "metadata": {},
   "outputs": [],
   "source": []
  }
 ],
 "metadata": {
  "kernelspec": {
   "display_name": "Python 3 (ipykernel)",
   "language": "python",
   "name": "python3"
  },
  "language_info": {
   "codemirror_mode": {
    "name": "ipython",
    "version": 3
   },
   "file_extension": ".py",
   "mimetype": "text/x-python",
   "name": "python",
   "nbconvert_exporter": "python",
   "pygments_lexer": "ipython3",
   "version": "3.11.4"
  }
 },
 "nbformat": 4,
 "nbformat_minor": 5
}
